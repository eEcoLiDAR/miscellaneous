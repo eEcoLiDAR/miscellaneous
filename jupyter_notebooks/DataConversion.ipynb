{
 "cells": [
  {
   "cell_type": "markdown",
   "metadata": {},
   "source": [
    "# Title"
   ]
  },
  {
   "cell_type": "markdown",
   "metadata": {},
   "source": [
    "## Initialisation"
   ]
  },
  {
   "cell_type": "code",
   "execution_count": 1,
   "metadata": {},
   "outputs": [],
   "source": [
    "import os\n",
    "import plyfile\n",
    "import numpy\n",
    "import matplotlib.pyplot\n",
    "import pandas\n",
    "import csv\n",
    "import gdal\n",
    "from osgeo import osr"
   ]
  },
  {
   "cell_type": "markdown",
   "metadata": {},
   "source": [
    "## Data Cleaning"
   ]
  },
  {
   "cell_type": "code",
   "execution_count": 2,
   "metadata": {},
   "outputs": [],
   "source": [
    "def cleanPlyFiles(directory):\n",
    "        for file in os.listdir(directory):\n",
    "            if file.endswith(\".ply\"):\n",
    "                with open(directory + \"/\" + file, \"r\") as fileOpen:\n",
    "                    lines = fileOpen.readlines()\n",
    "                    del lines[2:9]\n",
    "                    with open(directory + \"_cleaned/\" + file, \"w\") as fileNew:\n",
    "                        for line in lines:\n",
    "                            fileNew.write(line)\n",
    "                fileNew.close()\n",
    "                fileOpen.close()"
   ]
  },
  {
   "cell_type": "code",
   "execution_count": 3,
   "metadata": {},
   "outputs": [],
   "source": [
    "if False: # Set to False as this needs only be run once.\n",
    "    cleanPlyFiles(\"../data/ahn3_feature_1km\")"
   ]
  },
  {
   "cell_type": "code",
   "execution_count": 4,
   "metadata": {},
   "outputs": [],
   "source": [
    "if False: # Set to False as this needs only be run once.\n",
    "    cleanPlyFiles(\"../data/ahn3_feature_100m\")"
   ]
  },
  {
   "cell_type": "markdown",
   "metadata": {},
   "source": [
    "## Data Import"
   ]
  },
  {
   "cell_type": "code",
   "execution_count": 5,
   "metadata": {},
   "outputs": [],
   "source": [
    "terrainHeader = [\"x\", \"y\", \"z\", \"coeff_var_z\", \"density_absolute_mean\", \"eigenv_1\", \"eigenv_2\", \"eigenv_3\", \"gps_time\", \"intensity\", \"kurto_z\", \"max_z\", \"mean_z\", \"median_z\", \"min_z\", \"perc_10\", \"perc_100\", \"perc_20\", \"perc_30\", \"perc_40\", \"perc_50\", \"perc_60\", \"perc_70\", \"perc_80\", \"perc_90\", \"point_density\", \"pulse_penetration_ratio\", \"range\", \"skew_z\", \"std_z\", \"var_z\"]"
   ]
  },
  {
   "cell_type": "code",
   "execution_count": 6,
   "metadata": {},
   "outputs": [],
   "source": [
    "def plyIntoNumpyArray(directory, gridLength, columnList):\n",
    "    fileList = [s for s in os.listdir(directory) if s.endswith(\".ply\")]\n",
    "    terrainData = numpy.empty((gridLength * len(fileList), len(columnList)))\n",
    "    for i, file in enumerate(fileList):\n",
    "        plydata = plyfile.PlyData.read(directory + \"/\" + file)\n",
    "        for j, column in enumerate(columnList):\n",
    "            terrainData[gridLength * i:gridLength * i + gridLength, j] = plydata.elements[0].data[column]\n",
    "    return terrainData"
   ]
  },
  {
   "cell_type": "code",
   "execution_count": 7,
   "metadata": {},
   "outputs": [],
   "source": [
    "terrainData1km = plyIntoNumpyArray(\"../data/ahn3_feature_1km_cleaned\", 4, terrainHeader)"
   ]
  },
  {
   "cell_type": "code",
   "execution_count": 8,
   "metadata": {},
   "outputs": [],
   "source": [
    "if False: # Set to False to speed up work with 1km data.\n",
    "    terrainData100m = plyIntoNumpyArray(\"../data/ahn3_feature_100m_cleaned\", 400, terrainHeader)"
   ]
  },
  {
   "cell_type": "code",
   "execution_count": 9,
   "metadata": {},
   "outputs": [
    {
     "data": {
      "image/png": "[encoded data removed]",
      "text/plain": [
       "<Figure size 432x288 with 1 Axes>"
      ]
     },
     "metadata": {},
     "output_type": "display_data"
    }
   ],
   "source": [
    "matplotlib.pyplot.scatter(terrainData1km[:, 0], terrainData1km[:, 1])\n",
    "matplotlib.pyplot.show()"
   ]
  },
  {
   "cell_type": "code",
   "execution_count": 10,
   "metadata": {},
   "outputs": [],
   "source": [
    "birdColumnHeaders = [\"x_coordinaat_m\", \"y_coordinaat_m\", \"taxon_id\"]\n",
    "counter = 0\n",
    "with open(\"../data/forest_nl_headers_species.csv\") as f:\n",
    "    birdData = numpy.empty((sum(1 for row in f), len(birdColumnHeaders)))\n",
    "with open(\"../data/forest_nl_headers_species.csv\") as f:\n",
    "    reader = csv.DictReader(f)\n",
    "    for row in reader:\n",
    "        data = [row[column] for column in birdColumnHeaders]\n",
    "        if \"\" not in data and \"0\" not in data:\n",
    "            birdData[counter] = numpy.asarray(data, dtype=float)\n",
    "            counter += 1\n",
    "birdData = numpy.delete(birdData, numpy.s_[counter:], 0)"
   ]
  },
  {
   "cell_type": "code",
   "execution_count": 11,
   "metadata": {},
   "outputs": [
    {
     "data": {
      "image/png": "[encoded data removed]",
      "text/plain": [
       "<Figure size 432x288 with 1 Axes>"
      ]
     },
     "metadata": {},
     "output_type": "display_data"
    }
   ],
   "source": [
    "matplotlib.pyplot.scatter(birdData[:, 0], birdData[:, 1])\n",
    "matplotlib.pyplot.show()"
   ]
  },
  {
   "cell_type": "markdown",
   "metadata": {},
   "source": [
    "## Combined PLY file"
   ]
  },
  {
   "cell_type": "code",
   "execution_count": 12,
   "metadata": {},
   "outputs": [],
   "source": [
    "def combinePlyFiles(directory, outputFileName):\n",
    "    header = True\n",
    "    with open(outputFileName + \".ply\", \"w\") as fileNew:\n",
    "        for file in os.listdir(directory):\n",
    "            if file.endswith(\".ply\"):\n",
    "                with open(directory + \"/\" + file, \"r\") as fileOpen:\n",
    "                    lines = fileOpen.readlines()\n",
    "                    if header:\n",
    "                        header = False\n",
    "                        for line in lines:\n",
    "                            fileNew.write(line)\n",
    "                    else:\n",
    "                        for j, line in enumerate(lines):\n",
    "                            if line.rstrip() == \"end_header\":\n",
    "                                keepLines = lines[j + 1:]\n",
    "                                for keepLine in keepLines:\n",
    "                                    fileNew.write(keepLine)\n",
    "                                break\n",
    "    fileNew.close()\n",
    "    fileOpen.close()"
   ]
  },
  {
   "cell_type": "code",
   "execution_count": 13,
   "metadata": {},
   "outputs": [],
   "source": [
    "combinePlyFiles(\"../data/ahn3_feature_1km_cleaned\", \"../data/combined1km\")"
   ]
  },
  {
   "cell_type": "code",
   "execution_count": 14,
   "metadata": {},
   "outputs": [],
   "source": [
    "if False: # Set to False to speed up work with 1km data.\n",
    "    combinePlyFiles(\"../data/ahn3_feature_100m_cleaned\", \"../data/combined100m\")"
   ]
  },
  {
   "cell_type": "markdown",
   "metadata": {},
   "source": [
    "## Compressed Numpy Dataset"
   ]
  },
  {
   "cell_type": "code",
   "execution_count": 15,
   "metadata": {},
   "outputs": [],
   "source": [
    "numpy.savez_compressed(\"../data/compressedDatasets1km\", terrainData1km=terrainData1km, birdData=birdData)"
   ]
  },
  {
   "cell_type": "code",
   "execution_count": 16,
   "metadata": {},
   "outputs": [],
   "source": [
    "if False: # Set to False to speed up work with 1km data.\n",
    "    numpy.savez_compressed(\"../data/compressedDatasets100m\", terrainData100m=terrainData100m, birdData=birdData)"
   ]
  },
  {
   "cell_type": "markdown",
   "metadata": {},
   "source": [
    "## GeoTiff"
   ]
  },
  {
   "cell_type": "code",
   "execution_count": 17,
   "metadata": {},
   "outputs": [],
   "source": [
    "def combineTerrainFeatures(terrainData, terrainHeader):\n",
    "    bands = len(terrainHeader) - 2\n",
    "    listX = numpy.unique(terrainData[:, 0])\n",
    "    dictX = dict(zip(listX, range(len(listX))))\n",
    "    listY = numpy.unique(terrainData[:, 1])\n",
    "    dictY = dict(zip(listY, range(len(listY))))\n",
    "    arrays = numpy.full((bands, len(listY), len(listX)), numpy.nan)\n",
    "    for terrainDatum in terrainData:\n",
    "        indexX = dictX[terrainDatum[0]]\n",
    "        indexY = dictY[terrainDatum[1]]\n",
    "        for i in range(bands):\n",
    "            arrays[i, indexY, indexX] = terrainDatum[2 + i]\n",
    "    return arrays, bands, len(listY), len(listX)"
   ]
  },
  {
   "cell_type": "code",
   "execution_count": 18,
   "metadata": {},
   "outputs": [],
   "source": [
    "def getGeoTransform(terrainData, nrows, ncols):\n",
    "    xmin, ymin, xmax, ymax = [terrainData[:, 0].min(), terrainData[:, 1].min(), terrainData[:, 0].max(), terrainData[:, 1].max()]\n",
    "    xres = (xmax - xmin) / float(ncols)\n",
    "    yres = (ymax - ymin) / float(nrows)\n",
    "    return (xmin, xres, 0, ymin, 0, yres)"
   ]
  },
  {
   "cell_type": "code",
   "execution_count": 19,
   "metadata": {},
   "outputs": [],
   "source": [
    "def writeGeoTiff(featureArrays, terrainHeader, geoTransform, outputFileName, ncols, nrows, bands):\n",
    "    output_raster = gdal.GetDriverByName('GTiff').Create(outputFileName + \".tif\", ncols, nrows, bands, gdal.GDT_Float32)\n",
    "    output_raster.SetGeoTransform(geoTransform)\n",
    "    srs = osr.SpatialReference()\n",
    "    srs.ImportFromEPSG(28992)\n",
    "    output_raster.SetProjection(srs.ExportToWkt())\n",
    "    for i in range(bands):\n",
    "        rb = output_raster.GetRasterBand(1 + i)\n",
    "        rb.SetDescription(terrainHeader[2 + i])\n",
    "        rb.WriteArray(featureArrays[i])\n",
    "    output_raster.FlushCache()"
   ]
  },
  {
   "cell_type": "code",
   "execution_count": 20,
   "metadata": {},
   "outputs": [],
   "source": [
    "def terrainDataToGeoTiff(terrainData, terrainHeader, outputFileName):\n",
    "    combinedTerrainFeatures, bands, nrows, ncols = combineTerrainFeatures(terrainData, terrainHeader)\n",
    "    geoTransform = getGeoTransform(terrainData, nrows, ncols)\n",
    "    writeGeoTiff(combinedTerrainFeatures, terrainHeader, geoTransform, outputFileName, ncols, nrows, bands)"
   ]
  },
  {
   "cell_type": "code",
   "execution_count": 21,
   "metadata": {},
   "outputs": [],
   "source": [
    "terrainDataToGeoTiff(terrainData1km, terrainHeader, \"../data/terrainData1km\")"
   ]
  },
  {
   "cell_type": "code",
   "execution_count": 22,
   "metadata": {},
   "outputs": [],
   "source": [
    "if False: # Set to False to speed up work with 1km data.\n",
    "    terrainDataToGeoTiff(terrainData100m, terrainHeader, \"../data/terrainData100m\")"
   ]
  },
  {
   "cell_type": "markdown",
   "metadata": {},
   "source": [
    "End of _Jupyter Notebook_."
   ]
  }
 ],
 "metadata": {
  "kernelspec": {
   "display_name": "Python 3",
   "language": "python",
   "name": "python3"
  },
  "language_info": {
   "codemirror_mode": {
    "name": "ipython",
    "version": 3
   },
   "file_extension": ".py",
   "mimetype": "text/x-python",
   "name": "python",
   "nbconvert_exporter": "python",
   "pygments_lexer": "ipython3",
   "version": "3.6.6"
  }
 },
 "nbformat": 4,
 "nbformat_minor": 2
}
