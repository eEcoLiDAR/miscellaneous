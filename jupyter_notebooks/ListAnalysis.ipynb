{
 "cells": [
  {
   "cell_type": "markdown",
   "metadata": {},
   "source": [
    "# List Analysis"
   ]
  },
  {
   "cell_type": "markdown",
   "metadata": {},
   "source": [
    "## Initialisation"
   ]
  },
  {
   "cell_type": "code",
   "execution_count": 18,
   "metadata": {},
   "outputs": [],
   "source": [
    "import re"
   ]
  },
  {
   "cell_type": "markdown",
   "metadata": {},
   "source": [
    "## Data Import"
   ]
  },
  {
   "cell_type": "code",
   "execution_count": 10,
   "metadata": {},
   "outputs": [],
   "source": [
    "def readFile(directory, fileName):\n",
    "    content = \"\"\n",
    "    with open(directory + \"/\" + fileName + \".txt\", 'r') as file:\n",
    "        content = file.read()\n",
    "    return content"
   ]
  },
  {
   "cell_type": "code",
   "execution_count": 12,
   "metadata": {},
   "outputs": [],
   "source": [
    "tilesText = readFile(\"../data/lists\", \"tiles_list\")"
   ]
  },
  {
   "cell_type": "code",
   "execution_count": 14,
   "metadata": {},
   "outputs": [],
   "source": [
    "def readFiles(directory, fileName):\n",
    "    content = \"\"\n",
    "    for i in range(6):\n",
    "        content += readFile(directory, fileName + str(i))\n",
    "    return content"
   ]
  },
  {
   "cell_type": "code",
   "execution_count": 15,
   "metadata": {},
   "outputs": [],
   "source": [
    "normalisationText = readFiles(\"../data/lists\", \"normalisation_list_\")"
   ]
  },
  {
   "cell_type": "code",
   "execution_count": 16,
   "metadata": {},
   "outputs": [],
   "source": [
    "featureText = readFiles(\"../data/lists\", \"feature_list_\")"
   ]
  },
  {
   "cell_type": "markdown",
   "metadata": {},
   "source": [
    "## Data Cleaning"
   ]
  },
  {
   "cell_type": "code",
   "execution_count": 63,
   "metadata": {},
   "outputs": [],
   "source": [
    "tilesSet = set(tilesText.split(\"\\n\"))"
   ]
  },
  {
   "cell_type": "code",
   "execution_count": 64,
   "metadata": {},
   "outputs": [],
   "source": [
    "def textToSet(text):\n",
    "    return set(re.sub(\"-rw-rw-r--.*tile_(.*)....\", \"tile_\\g<1>\", re.sub(\"total.*\\n\", \"\", text)).split(\"\\n\"))"
   ]
  },
  {
   "cell_type": "code",
   "execution_count": 65,
   "metadata": {},
   "outputs": [],
   "source": [
    "normalisationSet = textToList(normalisationText)"
   ]
  },
  {
   "cell_type": "code",
   "execution_count": 66,
   "metadata": {},
   "outputs": [],
   "source": [
    "featureSet = textToList(featureText)"
   ]
  },
  {
   "cell_type": "markdown",
   "metadata": {},
   "source": [
    "## Data Analysis"
   ]
  },
  {
   "cell_type": "code",
   "execution_count": 67,
   "metadata": {},
   "outputs": [
    {
     "data": {
      "text/plain": [
       "5721"
      ]
     },
     "execution_count": 67,
     "metadata": {},
     "output_type": "execute_result"
    }
   ],
   "source": [
    "len(tilesSet)"
   ]
  },
  {
   "cell_type": "code",
   "execution_count": 68,
   "metadata": {},
   "outputs": [
    {
     "data": {
      "text/plain": [
       "5663"
      ]
     },
     "execution_count": 68,
     "metadata": {},
     "output_type": "execute_result"
    }
   ],
   "source": [
    "len(normalisationSet)"
   ]
  },
  {
   "cell_type": "code",
   "execution_count": 69,
   "metadata": {},
   "outputs": [
    {
     "data": {
      "text/plain": [
       "5548"
      ]
     },
     "execution_count": 69,
     "metadata": {},
     "output_type": "execute_result"
    }
   ],
   "source": [
    "len(featureSet)"
   ]
  },
  {
   "cell_type": "code",
   "execution_count": 71,
   "metadata": {},
   "outputs": [
    {
     "data": {
      "text/plain": [
       "59"
      ]
     },
     "execution_count": 71,
     "metadata": {},
     "output_type": "execute_result"
    }
   ],
   "source": [
    "len(tilesSet-normalisationSet)"
   ]
  },
  {
   "cell_type": "code",
   "execution_count": 72,
   "metadata": {},
   "outputs": [
    {
     "data": {
      "text/plain": [
       "174"
      ]
     },
     "execution_count": 72,
     "metadata": {},
     "output_type": "execute_result"
    }
   ],
   "source": [
    "len(tilesSet-featureSet)"
   ]
  },
  {
   "cell_type": "code",
   "execution_count": 73,
   "metadata": {},
   "outputs": [
    {
     "data": {
      "text/plain": [
       "115"
      ]
     },
     "execution_count": 73,
     "metadata": {},
     "output_type": "execute_result"
    }
   ],
   "source": [
    "len(normalisationSet-featureSet)"
   ]
  },
  {
   "cell_type": "code",
   "execution_count": 74,
   "metadata": {},
   "outputs": [
    {
     "data": {
      "text/plain": [
       "{'tile_105_161',\n",
       " 'tile_106_174',\n",
       " 'tile_106_175',\n",
       " 'tile_114_187',\n",
       " 'tile_117_173',\n",
       " 'tile_121_141',\n",
       " 'tile_121_173',\n",
       " 'tile_121_175',\n",
       " 'tile_122_140',\n",
       " 'tile_125_195',\n",
       " 'tile_125_199',\n",
       " 'tile_127_146',\n",
       " 'tile_127_158',\n",
       " 'tile_128_179',\n",
       " 'tile_129_136',\n",
       " 'tile_130_159',\n",
       " 'tile_131_134',\n",
       " 'tile_131_149',\n",
       " 'tile_132_134',\n",
       " 'tile_132_157',\n",
       " 'tile_134_154',\n",
       " 'tile_135_110',\n",
       " 'tile_135_153',\n",
       " 'tile_137_137',\n",
       " 'tile_137_140',\n",
       " 'tile_137_200',\n",
       " 'tile_137_201',\n",
       " 'tile_138_140',\n",
       " 'tile_138_167',\n",
       " 'tile_138_202',\n",
       " 'tile_139_118',\n",
       " 'tile_139_140',\n",
       " 'tile_140_141',\n",
       " 'tile_141_142',\n",
       " 'tile_142_154',\n",
       " 'tile_145_144',\n",
       " 'tile_149_120',\n",
       " 'tile_150_201',\n",
       " 'tile_154_114',\n",
       " 'tile_155_201',\n",
       " 'tile_63_94',\n",
       " 'tile_65_89',\n",
       " 'tile_65_92',\n",
       " 'tile_65_98',\n",
       " 'tile_67_89',\n",
       " 'tile_67_90',\n",
       " 'tile_72_89',\n",
       " 'tile_78_102',\n",
       " 'tile_79_86',\n",
       " 'tile_79_99',\n",
       " 'tile_80_97',\n",
       " 'tile_81_96',\n",
       " 'tile_81_99',\n",
       " 'tile_82_99',\n",
       " 'tile_84_105',\n",
       " 'tile_85_104',\n",
       " 'tile_85_94',\n",
       " 'tile_86_121',\n",
       " 'tile_90_109'}"
      ]
     },
     "execution_count": 74,
     "metadata": {},
     "output_type": "execute_result"
    }
   ],
   "source": [
    "tilesSet-normalisationSet"
   ]
  },
  {
   "cell_type": "code",
   "execution_count": 75,
   "metadata": {},
   "outputs": [
    {
     "data": {
      "text/plain": [
       "{'tile_104_150',\n",
       " 'tile_105_150',\n",
       " 'tile_105_161',\n",
       " 'tile_106_150',\n",
       " 'tile_106_174',\n",
       " 'tile_106_175',\n",
       " 'tile_107_150',\n",
       " 'tile_108_150',\n",
       " 'tile_109_150',\n",
       " 'tile_110_150',\n",
       " 'tile_111_150',\n",
       " 'tile_112_150',\n",
       " 'tile_113_150',\n",
       " 'tile_114_150',\n",
       " 'tile_114_187',\n",
       " 'tile_115_150',\n",
       " 'tile_116_150',\n",
       " 'tile_117_150',\n",
       " 'tile_117_173',\n",
       " 'tile_118_150',\n",
       " 'tile_119_150',\n",
       " 'tile_120_150',\n",
       " 'tile_121_141',\n",
       " 'tile_121_173',\n",
       " 'tile_121_175',\n",
       " 'tile_122_140',\n",
       " 'tile_125_195',\n",
       " 'tile_125_199',\n",
       " 'tile_127_146',\n",
       " 'tile_127_158',\n",
       " 'tile_128_179',\n",
       " 'tile_129_136',\n",
       " 'tile_130_159',\n",
       " 'tile_131_134',\n",
       " 'tile_131_149',\n",
       " 'tile_132_134',\n",
       " 'tile_132_150',\n",
       " 'tile_132_157',\n",
       " 'tile_133_150',\n",
       " 'tile_134_150',\n",
       " 'tile_134_154',\n",
       " 'tile_135_110',\n",
       " 'tile_135_150',\n",
       " 'tile_135_153',\n",
       " 'tile_136_150',\n",
       " 'tile_137_137',\n",
       " 'tile_137_140',\n",
       " 'tile_137_150',\n",
       " 'tile_137_200',\n",
       " 'tile_137_201',\n",
       " 'tile_138_140',\n",
       " 'tile_138_150',\n",
       " 'tile_138_167',\n",
       " 'tile_138_202',\n",
       " 'tile_139_118',\n",
       " 'tile_139_140',\n",
       " 'tile_139_150',\n",
       " 'tile_140_141',\n",
       " 'tile_140_150',\n",
       " 'tile_141_142',\n",
       " 'tile_141_150',\n",
       " 'tile_142_150',\n",
       " 'tile_142_154',\n",
       " 'tile_143_150',\n",
       " 'tile_144_150',\n",
       " 'tile_145_144',\n",
       " 'tile_145_150',\n",
       " 'tile_146_150',\n",
       " 'tile_147_150',\n",
       " 'tile_148_150',\n",
       " 'tile_149_120',\n",
       " 'tile_149_150',\n",
       " 'tile_150_106',\n",
       " 'tile_150_107',\n",
       " 'tile_150_108',\n",
       " 'tile_150_109',\n",
       " 'tile_150_110',\n",
       " 'tile_150_111',\n",
       " 'tile_150_112',\n",
       " 'tile_150_113',\n",
       " 'tile_150_114',\n",
       " 'tile_150_115',\n",
       " 'tile_150_116',\n",
       " 'tile_150_117',\n",
       " 'tile_150_118',\n",
       " 'tile_150_119',\n",
       " 'tile_150_147',\n",
       " 'tile_150_148',\n",
       " 'tile_150_149',\n",
       " 'tile_150_150',\n",
       " 'tile_150_151',\n",
       " 'tile_150_152',\n",
       " 'tile_150_153',\n",
       " 'tile_150_154',\n",
       " 'tile_150_155',\n",
       " 'tile_150_156',\n",
       " 'tile_150_157',\n",
       " 'tile_150_158',\n",
       " 'tile_150_159',\n",
       " 'tile_150_160',\n",
       " 'tile_150_161',\n",
       " 'tile_150_162',\n",
       " 'tile_150_163',\n",
       " 'tile_150_166',\n",
       " 'tile_150_167',\n",
       " 'tile_150_168',\n",
       " 'tile_150_169',\n",
       " 'tile_150_170',\n",
       " 'tile_150_173',\n",
       " 'tile_150_174',\n",
       " 'tile_150_175',\n",
       " 'tile_150_176',\n",
       " 'tile_150_177',\n",
       " 'tile_150_178',\n",
       " 'tile_150_179',\n",
       " 'tile_150_180',\n",
       " 'tile_150_181',\n",
       " 'tile_150_182',\n",
       " 'tile_150_183',\n",
       " 'tile_150_184',\n",
       " 'tile_150_185',\n",
       " 'tile_150_186',\n",
       " 'tile_150_187',\n",
       " 'tile_150_188',\n",
       " 'tile_150_189',\n",
       " 'tile_150_190',\n",
       " 'tile_150_191',\n",
       " 'tile_150_192',\n",
       " 'tile_150_193',\n",
       " 'tile_150_194',\n",
       " 'tile_150_195',\n",
       " 'tile_150_196',\n",
       " 'tile_150_197',\n",
       " 'tile_150_198',\n",
       " 'tile_150_199',\n",
       " 'tile_150_201',\n",
       " 'tile_150_202',\n",
       " 'tile_151_150',\n",
       " 'tile_152_150',\n",
       " 'tile_153_150',\n",
       " 'tile_154_114',\n",
       " 'tile_154_150',\n",
       " 'tile_155_150',\n",
       " 'tile_155_201',\n",
       " 'tile_156_150',\n",
       " 'tile_157_150',\n",
       " 'tile_158_150',\n",
       " 'tile_159_150',\n",
       " 'tile_160_150',\n",
       " 'tile_161_150',\n",
       " 'tile_162_150',\n",
       " 'tile_163_150',\n",
       " 'tile_164_150',\n",
       " 'tile_165_150',\n",
       " 'tile_166_150',\n",
       " 'tile_63_94',\n",
       " 'tile_65_89',\n",
       " 'tile_65_92',\n",
       " 'tile_65_98',\n",
       " 'tile_67_89',\n",
       " 'tile_67_90',\n",
       " 'tile_72_89',\n",
       " 'tile_78_102',\n",
       " 'tile_79_86',\n",
       " 'tile_79_99',\n",
       " 'tile_80_97',\n",
       " 'tile_81_96',\n",
       " 'tile_81_99',\n",
       " 'tile_82_99',\n",
       " 'tile_84_105',\n",
       " 'tile_85_104',\n",
       " 'tile_85_94',\n",
       " 'tile_86_121',\n",
       " 'tile_90_109'}"
      ]
     },
     "execution_count": 75,
     "metadata": {},
     "output_type": "execute_result"
    }
   ],
   "source": [
    "tilesSet-featureSet"
   ]
  },
  {
   "cell_type": "code",
   "execution_count": 76,
   "metadata": {},
   "outputs": [
    {
     "data": {
      "text/plain": [
       "{'tile_104_150',\n",
       " 'tile_105_150',\n",
       " 'tile_106_150',\n",
       " 'tile_107_150',\n",
       " 'tile_108_150',\n",
       " 'tile_109_150',\n",
       " 'tile_110_150',\n",
       " 'tile_111_150',\n",
       " 'tile_112_150',\n",
       " 'tile_113_150',\n",
       " 'tile_114_150',\n",
       " 'tile_115_150',\n",
       " 'tile_116_150',\n",
       " 'tile_117_150',\n",
       " 'tile_118_150',\n",
       " 'tile_119_150',\n",
       " 'tile_120_150',\n",
       " 'tile_132_150',\n",
       " 'tile_133_150',\n",
       " 'tile_134_150',\n",
       " 'tile_135_150',\n",
       " 'tile_136_150',\n",
       " 'tile_137_150',\n",
       " 'tile_138_150',\n",
       " 'tile_139_150',\n",
       " 'tile_140_150',\n",
       " 'tile_141_150',\n",
       " 'tile_142_150',\n",
       " 'tile_143_150',\n",
       " 'tile_144_150',\n",
       " 'tile_145_150',\n",
       " 'tile_146_150',\n",
       " 'tile_147_150',\n",
       " 'tile_148_150',\n",
       " 'tile_149_150',\n",
       " 'tile_150_106',\n",
       " 'tile_150_107',\n",
       " 'tile_150_108',\n",
       " 'tile_150_109',\n",
       " 'tile_150_110',\n",
       " 'tile_150_111',\n",
       " 'tile_150_112',\n",
       " 'tile_150_113',\n",
       " 'tile_150_114',\n",
       " 'tile_150_115',\n",
       " 'tile_150_116',\n",
       " 'tile_150_117',\n",
       " 'tile_150_118',\n",
       " 'tile_150_119',\n",
       " 'tile_150_147',\n",
       " 'tile_150_148',\n",
       " 'tile_150_149',\n",
       " 'tile_150_150',\n",
       " 'tile_150_151',\n",
       " 'tile_150_152',\n",
       " 'tile_150_153',\n",
       " 'tile_150_154',\n",
       " 'tile_150_155',\n",
       " 'tile_150_156',\n",
       " 'tile_150_157',\n",
       " 'tile_150_158',\n",
       " 'tile_150_159',\n",
       " 'tile_150_160',\n",
       " 'tile_150_161',\n",
       " 'tile_150_162',\n",
       " 'tile_150_163',\n",
       " 'tile_150_166',\n",
       " 'tile_150_167',\n",
       " 'tile_150_168',\n",
       " 'tile_150_169',\n",
       " 'tile_150_170',\n",
       " 'tile_150_173',\n",
       " 'tile_150_174',\n",
       " 'tile_150_175',\n",
       " 'tile_150_176',\n",
       " 'tile_150_177',\n",
       " 'tile_150_178',\n",
       " 'tile_150_179',\n",
       " 'tile_150_180',\n",
       " 'tile_150_181',\n",
       " 'tile_150_182',\n",
       " 'tile_150_183',\n",
       " 'tile_150_184',\n",
       " 'tile_150_185',\n",
       " 'tile_150_186',\n",
       " 'tile_150_187',\n",
       " 'tile_150_188',\n",
       " 'tile_150_189',\n",
       " 'tile_150_190',\n",
       " 'tile_150_191',\n",
       " 'tile_150_192',\n",
       " 'tile_150_193',\n",
       " 'tile_150_194',\n",
       " 'tile_150_195',\n",
       " 'tile_150_196',\n",
       " 'tile_150_197',\n",
       " 'tile_150_198',\n",
       " 'tile_150_199',\n",
       " 'tile_150_202',\n",
       " 'tile_151_150',\n",
       " 'tile_152_150',\n",
       " 'tile_153_150',\n",
       " 'tile_154_150',\n",
       " 'tile_155_150',\n",
       " 'tile_156_150',\n",
       " 'tile_157_150',\n",
       " 'tile_158_150',\n",
       " 'tile_159_150',\n",
       " 'tile_160_150',\n",
       " 'tile_161_150',\n",
       " 'tile_162_150',\n",
       " 'tile_163_150',\n",
       " 'tile_164_150',\n",
       " 'tile_165_150',\n",
       " 'tile_166_150'}"
      ]
     },
     "execution_count": 76,
     "metadata": {},
     "output_type": "execute_result"
    }
   ],
   "source": [
    "normalisationSet-featureSet"
   ]
  },
  {
   "cell_type": "markdown",
   "metadata": {},
   "source": [
    "End of _Jupyter Notebook_."
   ]
  }
 ],
 "metadata": {
  "kernelspec": {
   "display_name": "Python 3",
   "language": "python",
   "name": "python3"
  },
  "language_info": {
   "codemirror_mode": {
    "name": "ipython",
    "version": 3
   },
   "file_extension": ".py",
   "mimetype": "text/x-python",
   "name": "python",
   "nbconvert_exporter": "python",
   "pygments_lexer": "ipython3",
   "version": "3.6.6"
  }
 },
 "nbformat": 4,
 "nbformat_minor": 2
}
