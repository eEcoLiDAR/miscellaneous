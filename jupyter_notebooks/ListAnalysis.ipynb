{
 "cells": [
  {
   "cell_type": "markdown",
   "metadata": {},
   "source": [
    "# List Analysis"
   ]
  },
  {
   "cell_type": "markdown",
   "metadata": {},
   "source": [
    "## Initialisation"
   ]
  },
  {
   "cell_type": "code",
   "execution_count": 1,
   "metadata": {},
   "outputs": [],
   "source": [
    "import re"
   ]
  },
  {
   "cell_type": "markdown",
   "metadata": {},
   "source": [
    "## Data Import"
   ]
  },
  {
   "cell_type": "code",
   "execution_count": 2,
   "metadata": {},
   "outputs": [],
   "source": [
    "def readFile(directory, fileName):\n",
    "    content = \"\"\n",
    "    with open(directory + \"/\" + fileName + \".txt\", 'r') as file:\n",
    "        content = file.read()\n",
    "    return content"
   ]
  },
  {
   "cell_type": "code",
   "execution_count": 3,
   "metadata": {},
   "outputs": [],
   "source": [
    "tilesText = readFile(\"../data/lists\", \"tiles_list\")"
   ]
  },
  {
   "cell_type": "code",
   "execution_count": 4,
   "metadata": {},
   "outputs": [],
   "source": [
    "def readFiles(directory, fileName):\n",
    "    content = \"\"\n",
    "    for i in range(6):\n",
    "        content += readFile(directory, fileName + str(i))\n",
    "    return content"
   ]
  },
  {
   "cell_type": "code",
   "execution_count": 5,
   "metadata": {},
   "outputs": [],
   "source": [
    "normalisationText = readFiles(\"../data/lists\", \"normalisation_list_\")"
   ]
  },
  {
   "cell_type": "code",
   "execution_count": 6,
   "metadata": {},
   "outputs": [],
   "source": [
    "featureText = readFiles(\"../data/lists\", \"feature_list_\")"
   ]
  },
  {
   "cell_type": "markdown",
   "metadata": {},
   "source": [
    "## Data Cleaning"
   ]
  },
  {
   "cell_type": "code",
   "execution_count": 7,
   "metadata": {},
   "outputs": [],
   "source": [
    "tilesSet = set(tilesText.split(\"\\n\"))"
   ]
  },
  {
   "cell_type": "code",
   "execution_count": 8,
   "metadata": {},
   "outputs": [],
   "source": [
    "def textToSet(text):\n",
    "    return set(re.sub(\"-rw-rw-r--.*tile_(.*)....\", \"tile_\\g<1>\", re.sub(\"total.*\\n\", \"\", text)).split(\"\\n\"))"
   ]
  },
  {
   "cell_type": "code",
   "execution_count": 9,
   "metadata": {},
   "outputs": [],
   "source": [
    "normalisationSet = textToSet(normalisationText)"
   ]
  },
  {
   "cell_type": "code",
   "execution_count": 10,
   "metadata": {},
   "outputs": [],
   "source": [
    "featureSet = textToSet(featureText)"
   ]
  },
  {
   "cell_type": "markdown",
   "metadata": {},
   "source": [
    "## Data Analysis"
   ]
  },
  {
   "cell_type": "code",
   "execution_count": 11,
   "metadata": {},
   "outputs": [
    {
     "data": {
      "text/plain": [
       "5721"
      ]
     },
     "execution_count": 11,
     "metadata": {},
     "output_type": "execute_result"
    }
   ],
   "source": [
    "len(tilesSet)"
   ]
  },
  {
   "cell_type": "code",
   "execution_count": 12,
   "metadata": {},
   "outputs": [
    {
     "data": {
      "text/plain": [
       "5663"
      ]
     },
     "execution_count": 12,
     "metadata": {},
     "output_type": "execute_result"
    }
   ],
   "source": [
    "len(normalisationSet)"
   ]
  },
  {
   "cell_type": "code",
   "execution_count": 13,
   "metadata": {},
   "outputs": [
    {
     "data": {
      "text/plain": [
       "5663"
      ]
     },
     "execution_count": 13,
     "metadata": {},
     "output_type": "execute_result"
    }
   ],
   "source": [
    "len(featureSet)"
   ]
  },
  {
   "cell_type": "code",
   "execution_count": 14,
   "metadata": {},
   "outputs": [
    {
     "data": {
      "text/plain": [
       "59"
      ]
     },
     "execution_count": 14,
     "metadata": {},
     "output_type": "execute_result"
    }
   ],
   "source": [
    "len(tilesSet-normalisationSet)"
   ]
  },
  {
   "cell_type": "code",
   "execution_count": 15,
   "metadata": {},
   "outputs": [
    {
     "data": {
      "text/plain": [
       "59"
      ]
     },
     "execution_count": 15,
     "metadata": {},
     "output_type": "execute_result"
    }
   ],
   "source": [
    "len(tilesSet-featureSet)"
   ]
  },
  {
   "cell_type": "code",
   "execution_count": 16,
   "metadata": {},
   "outputs": [
    {
     "data": {
      "text/plain": [
       "0"
      ]
     },
     "execution_count": 16,
     "metadata": {},
     "output_type": "execute_result"
    }
   ],
   "source": [
    "len(normalisationSet-featureSet)"
   ]
  },
  {
   "cell_type": "code",
   "execution_count": 17,
   "metadata": {},
   "outputs": [
    {
     "data": {
      "text/plain": [
       "{'tile_105_161',\n",
       " 'tile_106_174',\n",
       " 'tile_106_175',\n",
       " 'tile_114_187',\n",
       " 'tile_117_173',\n",
       " 'tile_121_141',\n",
       " 'tile_121_173',\n",
       " 'tile_121_175',\n",
       " 'tile_122_140',\n",
       " 'tile_125_195',\n",
       " 'tile_125_199',\n",
       " 'tile_127_146',\n",
       " 'tile_127_158',\n",
       " 'tile_128_179',\n",
       " 'tile_129_136',\n",
       " 'tile_130_159',\n",
       " 'tile_131_134',\n",
       " 'tile_131_149',\n",
       " 'tile_132_134',\n",
       " 'tile_132_157',\n",
       " 'tile_134_154',\n",
       " 'tile_135_110',\n",
       " 'tile_135_153',\n",
       " 'tile_137_137',\n",
       " 'tile_137_140',\n",
       " 'tile_137_200',\n",
       " 'tile_137_201',\n",
       " 'tile_138_140',\n",
       " 'tile_138_167',\n",
       " 'tile_138_202',\n",
       " 'tile_139_118',\n",
       " 'tile_139_140',\n",
       " 'tile_140_141',\n",
       " 'tile_141_142',\n",
       " 'tile_142_154',\n",
       " 'tile_145_144',\n",
       " 'tile_149_120',\n",
       " 'tile_150_201',\n",
       " 'tile_154_114',\n",
       " 'tile_155_201',\n",
       " 'tile_63_94',\n",
       " 'tile_65_89',\n",
       " 'tile_65_92',\n",
       " 'tile_65_98',\n",
       " 'tile_67_89',\n",
       " 'tile_67_90',\n",
       " 'tile_72_89',\n",
       " 'tile_78_102',\n",
       " 'tile_79_86',\n",
       " 'tile_79_99',\n",
       " 'tile_80_97',\n",
       " 'tile_81_96',\n",
       " 'tile_81_99',\n",
       " 'tile_82_99',\n",
       " 'tile_84_105',\n",
       " 'tile_85_104',\n",
       " 'tile_85_94',\n",
       " 'tile_86_121',\n",
       " 'tile_90_109'}"
      ]
     },
     "execution_count": 17,
     "metadata": {},
     "output_type": "execute_result"
    }
   ],
   "source": [
    "tilesSet-normalisationSet"
   ]
  },
  {
   "cell_type": "code",
   "execution_count": 18,
   "metadata": {},
   "outputs": [
    {
     "data": {
      "text/plain": [
       "{'tile_105_161',\n",
       " 'tile_106_174',\n",
       " 'tile_106_175',\n",
       " 'tile_114_187',\n",
       " 'tile_117_173',\n",
       " 'tile_121_141',\n",
       " 'tile_121_173',\n",
       " 'tile_121_175',\n",
       " 'tile_122_140',\n",
       " 'tile_125_195',\n",
       " 'tile_125_199',\n",
       " 'tile_127_146',\n",
       " 'tile_127_158',\n",
       " 'tile_128_179',\n",
       " 'tile_129_136',\n",
       " 'tile_130_159',\n",
       " 'tile_131_134',\n",
       " 'tile_131_149',\n",
       " 'tile_132_134',\n",
       " 'tile_132_157',\n",
       " 'tile_134_154',\n",
       " 'tile_135_110',\n",
       " 'tile_135_153',\n",
       " 'tile_137_137',\n",
       " 'tile_137_140',\n",
       " 'tile_137_200',\n",
       " 'tile_137_201',\n",
       " 'tile_138_140',\n",
       " 'tile_138_167',\n",
       " 'tile_138_202',\n",
       " 'tile_139_118',\n",
       " 'tile_139_140',\n",
       " 'tile_140_141',\n",
       " 'tile_141_142',\n",
       " 'tile_142_154',\n",
       " 'tile_145_144',\n",
       " 'tile_149_120',\n",
       " 'tile_150_201',\n",
       " 'tile_154_114',\n",
       " 'tile_155_201',\n",
       " 'tile_63_94',\n",
       " 'tile_65_89',\n",
       " 'tile_65_92',\n",
       " 'tile_65_98',\n",
       " 'tile_67_89',\n",
       " 'tile_67_90',\n",
       " 'tile_72_89',\n",
       " 'tile_78_102',\n",
       " 'tile_79_86',\n",
       " 'tile_79_99',\n",
       " 'tile_80_97',\n",
       " 'tile_81_96',\n",
       " 'tile_81_99',\n",
       " 'tile_82_99',\n",
       " 'tile_84_105',\n",
       " 'tile_85_104',\n",
       " 'tile_85_94',\n",
       " 'tile_86_121',\n",
       " 'tile_90_109'}"
      ]
     },
     "execution_count": 18,
     "metadata": {},
     "output_type": "execute_result"
    }
   ],
   "source": [
    "tilesSet-featureSet"
   ]
  },
  {
   "cell_type": "code",
   "execution_count": 19,
   "metadata": {},
   "outputs": [
    {
     "data": {
      "text/plain": [
       "set()"
      ]
     },
     "execution_count": 19,
     "metadata": {},
     "output_type": "execute_result"
    }
   ],
   "source": [
    "normalisationSet-featureSet"
   ]
  },
  {
   "cell_type": "markdown",
   "metadata": {},
   "source": [
    "End of _Jupyter Notebook_."
   ]
  }
 ],
 "metadata": {
  "kernelspec": {
   "display_name": "Python 3",
   "language": "python",
   "name": "python3"
  },
  "language_info": {
   "codemirror_mode": {
    "name": "ipython",
    "version": 3
   },
   "file_extension": ".py",
   "mimetype": "text/x-python",
   "name": "python",
   "nbconvert_exporter": "python",
   "pygments_lexer": "ipython3",
   "version": "3.6.6"
  }
 },
 "nbformat": 4,
 "nbformat_minor": 2
}
