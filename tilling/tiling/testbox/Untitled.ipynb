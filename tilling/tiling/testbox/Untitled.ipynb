{
 "cells": [
  {
   "cell_type": "code",
   "execution_count": 32,
   "metadata": {},
   "outputs": [],
   "source": [
    "import sys, os, subprocess, struct, numpy, math\n"
   ]
  },
  {
   "cell_type": "code",
   "execution_count": 33,
   "metadata": {},
   "outputs": [],
   "source": [
    " def shellExecute(command, showOutErr = False):\n",
    "    \"\"\" Execute the command in the SHELL and shows both stdout and stderr\"\"\"\n",
    "    print(command)\n",
    "    (out,err) = subprocess.Popen(command, shell = True, stdout=subprocess.PIPE, stderr=subprocess.PIPE).communicate()\n",
    "    r = '\\n'.join((out.decode(\"utf-8\") , err.decode(\"utf-8\")))\n",
    "    if showOutErr:\n",
    "        print(r)\n",
    "    return r"
   ]
  },
  {
   "cell_type": "code",
   "execution_count": 34,
   "metadata": {},
   "outputs": [],
   "source": [
    "def getPCFileDetails(absPath):\n",
    "    \"\"\" Get the details (count numPoints and extent) of a LAS/LAZ file (using LAStools, hence it is fast)\"\"\"\n",
    "    count = None\n",
    "    (minX, minY, minZ, maxX, maxY, maxZ) = (None, None, None, None, None, None)\n",
    "    (scaleX, scaleY, scaleZ) = (None, None, None)\n",
    "    (offsetX, offsetY, offsetZ) = (None, None, None)\n",
    "\n",
    "    command = 'lasinfo ' + absPath + ' -nc -nv -nco'\n",
    "    for line in shellExecute(command).split('\\n'):\n",
    "        if line.count('min x y z:'):\n",
    "            [minX, minY, minZ] = line.split(':')[-1].strip().split(' ')\n",
    "            minX = float(minX)\n",
    "            minY = float(minY)\n",
    "            minZ = float(minZ)\n",
    "        elif line.count('max x y z:'):\n",
    "            [maxX, maxY, maxZ] = line.split(':')[-1].strip().split(' ')\n",
    "            maxX = float(maxX)\n",
    "            maxY = float(maxY)\n",
    "            maxZ = float(maxZ)\n",
    "        elif line.count('number of point records:'):\n",
    "            count = int(line.split(':')[-1].strip())\n",
    "        elif line.count('scale factor x y z:'):\n",
    "            [scaleX, scaleY, scaleZ] = line.split(':')[-1].strip().split(' ')\n",
    "            scaleX = float(scaleX)\n",
    "            scaleY = float(scaleY)\n",
    "            scaleZ = float(scaleZ)\n",
    "        elif line.count('offset x y z:'):\n",
    "            [offsetX, offsetY, offsetZ] = line.split(':')[-1].strip().split(' ')\n",
    "            offsetX = float(offsetX)\n",
    "            offsetY = float(offsetY)\n",
    "            offsetZ = float(offsetZ)\n",
    "    return (count, minX, minY, minZ, maxX, maxY, maxZ, scaleX, scaleY, scaleZ, offsetX, offsetY, offsetZ)"
   ]
  },
  {
   "cell_type": "code",
   "execution_count": 35,
   "metadata": {},
   "outputs": [],
   "source": [
    "def getPCFileDetails_mod(absPath):\n",
    "    \"\"\" Get the details (count numPoints and extent) of a LAS/LAZ file (using LAStools, hence it is fast)\"\"\"\n",
    "    count = None\n",
    "    (minX, minY, minZ, maxX, maxY, maxZ) = (None, None, None, None, None, None)\n",
    "    (scaleX, scaleY, scaleZ) = (None, None, None)\n",
    "    (offsetX, offsetY, offsetZ) = (None, None, None)\n",
    "\n",
    "    command = 'lasinfo ' + absPath + ' -nc -nv -nco'\n",
    "    for line in shellExecute(command).split('\\n'):\n",
    "        print(line)\n",
    "        \"\"\"\n",
    "        if line.count('min x y z:'):\n",
    "            [minX, minY, minZ] = line.split(':')[-1].strip().split(' ')\n",
    "            minX = float(minX)\n",
    "            minY = float(minY)\n",
    "            minZ = float(minZ)\n",
    "        elif line.count('max x y z:'):\n",
    "            [maxX, maxY, maxZ] = line.split(':')[-1].strip().split(' ')\n",
    "            maxX = float(maxX)\n",
    "            maxY = float(maxY)\n",
    "            maxZ = float(maxZ)\n",
    "        elif line.count('number of point records:'):\n",
    "            count = int(line.split(':')[-1].strip())\n",
    "        elif line.count('scale factor x y z:'):\n",
    "            [scaleX, scaleY, scaleZ] = line.split(':')[-1].strip().split(' ')\n",
    "            scaleX = float(scaleX)\n",
    "            scaleY = float(scaleY)\n",
    "            scaleZ = float(scaleZ)\n",
    "        elif line.count('offset x y z:'):\n",
    "            [offsetX, offsetY, offsetZ] = line.split(':')[-1].strip().split(' ')\n",
    "            offsetX = float(offsetX)\n",
    "            offsetY = float(offsetY)\n",
    "            offsetZ = float(offsetZ)\n",
    "            \"\"\"\n",
    "    return (count, minX, minY, minZ, maxX, maxY, maxZ, scaleX, scaleY, scaleZ, offsetX, offsetY, offsetZ)"
   ]
  },
  {
   "cell_type": "code",
   "execution_count": 36,
   "metadata": {},
   "outputs": [],
   "source": [
    "absPath ='/Users/eslt0101/Data/eScience/eEcoLiDAR/local/eecolidar_webdav/01_Work/ALS/Netherlands/ahn3_2019_01_08/tile_subset_4/C_43EZ2.LAZ'"
   ]
  },
  {
   "cell_type": "code",
   "execution_count": 37,
   "metadata": {},
   "outputs": [
    {
     "name": "stdout",
     "output_type": "stream",
     "text": [
      "lasinfo /Users/eslt0101/Data/eScience/eEcoLiDAR/local/eecolidar_webdav/01_Work/ALS/Netherlands/ahn3_2019_01_08/tile_subset_4/C_43EZ2.LAZ -nc -nv -nco\n",
      "\n",
      "lasinfo (171231) report for /Users/eslt0101/Data/eScience/eEcoLiDAR/local/eecolidar_webdav/01_Work/ALS/Netherlands/ahn3_2019_01_08/tile_subset_4/C_43EZ2.LAZ\n",
      "reporting all LAS header entries:\n",
      "  file signature:             'LASF'\n",
      "  file source ID:             0\n",
      "  global_encoding:            1\n",
      "  project ID GUID data 1-4:   00002017-0002-0000-0000-000000000000\n",
      "  version major.minor:        1.2\n",
      "  system identifier:          'LM6800'\n",
      "  generating software:        'Terra Scan 017.001'\n",
      "  file creation day/year:     339/2016\n",
      "  header size:                227\n",
      "  offset to point data:       229\n",
      "  number var. length records: 0\n",
      "  point data format:          1\n",
      "  point data record length:   28\n",
      "  number of point records:    222413928\n",
      "  number of points by return: 195746473 16368813 7319073 2434917 544652\n",
      "  scale factor x y z:         0.001 0.001 0.001\n",
      "  offset x y z:               -0 -0 -0\n",
      "  min x y z:                  85000.000 412500.000 -1.997\n",
      "  max x y z:                  89999.999 418749.999 148.001\n",
      "the header is followed by 2 user-defined bytes\n",
      "LASzip compression (version 3.0r0 c2 50000): POINT10 2 GPSTIME11 2\n",
      "\n",
      "lasinfo /Users/eslt0101/Data/eScience/eEcoLiDAR/local/eecolidar_webdav/01_Work/ALS/Netherlands/ahn3_2019_01_08/tile_subset_4/C_43EZ2.LAZ -nc -nv -nco\n"
     ]
    }
   ],
   "source": [
    "b = getPCFileDetails_mod(absPath)\n",
    "a = getPCFileDetails(absPath)"
   ]
  },
  {
   "cell_type": "code",
   "execution_count": 38,
   "metadata": {},
   "outputs": [
    {
     "data": {
      "text/plain": [
       "(222413928,\n",
       " 85000.0,\n",
       " 412500.0,\n",
       " -1.997,\n",
       " 89999.999,\n",
       " 418749.999,\n",
       " 148.001,\n",
       " 0.001,\n",
       " 0.001,\n",
       " 0.001,\n",
       " -0.0,\n",
       " -0.0,\n",
       " -0.0)"
      ]
     },
     "execution_count": 38,
     "metadata": {},
     "output_type": "execute_result"
    }
   ],
   "source": [
    "b\n",
    "a"
   ]
  },
  {
   "cell_type": "code",
   "execution_count": null,
   "metadata": {},
   "outputs": [],
   "source": []
  }
 ],
 "metadata": {
  "kernelspec": {
   "display_name": "Python [conda env:eEcoLiDAR]",
   "language": "python",
   "name": "conda-env-eEcoLiDAR-py"
  },
  "language_info": {
   "codemirror_mode": {
    "name": "ipython",
    "version": 3
   },
   "file_extension": ".py",
   "mimetype": "text/x-python",
   "name": "python",
   "nbconvert_exporter": "python",
   "pygments_lexer": "ipython3",
   "version": "3.6.6"
  }
 },
 "nbformat": 4,
 "nbformat_minor": 2
}
